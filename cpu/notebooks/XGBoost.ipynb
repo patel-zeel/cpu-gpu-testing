{
 "cells": [
  {
   "cell_type": "code",
   "execution_count": 1,
   "metadata": {},
   "outputs": [],
   "source": [
    "from IPython import get_ipython\n",
    "!pip install -qq GPy \n",
    "import pandas as pd\n",
    "import numpy as np\n",
    "import sys\n",
    "import os\n",
    "from GPy.models import GPRegression\n",
    "from GPy.kern import RBF\n",
    "from sklearn.model_selection import KFold\n",
    "from sklearn.preprocessing import StandardScaler\n",
    "from scipy.stats import mode\n",
    "from sklearn.metrics import mean_squared_error\n",
    "from IPython.display import clear_output\n",
    "from time import time\n",
    "from glob import glob\n",
    "import multiprocessing as mp"
   ]
  },
  {
   "cell_type": "markdown",
   "metadata": {},
   "source": [
    "## Generate script"
   ]
  },
  {
   "cell_type": "code",
   "execution_count": 2,
   "metadata": {},
   "outputs": [
    {
     "name": "stdout",
     "output_type": "stream",
     "text": [
      "Writing xgboost.py\n"
     ]
    }
   ],
   "source": [
    "%%writefile xgboost.py\n",
    "import pandas as pd\n",
    "import numpy as np\n",
    "from sklearn.ensemble import GradientBoostingRegressor\n",
    "import os\n",
    "import sys\n",
    "np.random.seed(0)\n",
    "f_name = sys.argv[1]#'out_i_0_t_i_0'#\n",
    "recompute = int(sys.argv[2])#1#\n",
    "compute=True\n",
    "base_data_path = '../data/common/'\n",
    "base_result_path = '../raw_results/XGBoost/'\n",
    "\n",
    "if os.path.exists(f_name):\n",
    "    compute = True if recompute else False\n",
    "    \n",
    "if compute:\n",
    "    sub_data = pd.read_pickle(base_data_path+f_name)\n",
    "    model = GradientBoostingRegressor()\n",
    "    model.fit(sub_data['trn_val_X'], sub_data['trn_val_Y'].ravel())\n",
    "    Yscaler = sub_data['Yscaler']\n",
    "    pred_y = Yscaler.inverse_transform(model.predict(sub_data['test_X']))\n",
    "    rmse = np.sqrt(np.mean(np.square(sub_data['test_Y'].squeeze() - pred_y.squeeze())))\n",
    "#     print(rmse, pred_y)\n",
    "    pd.to_pickle({'rmse':rmse, 'test_y':sub_data['test_Y'].squeeze(),\n",
    "                  'pred_y':pred_y, 'model':model}, \n",
    "                 base_result_path+f_name)"
   ]
  },
  {
   "cell_type": "markdown",
   "metadata": {},
   "source": [
    "### Compute"
   ]
  },
  {
   "cell_type": "code",
   "execution_count": 3,
   "metadata": {},
   "outputs": [
    {
     "name": "stdout",
     "output_type": "stream",
     "text": [
      "839\n",
      "Appended\n",
      "Job finished in 48.56886172294617 seconds\n"
     ]
    }
   ],
   "source": [
    "i = 0\n",
    "jobs = []\n",
    "main_command = 'python xgboost.py'\n",
    "\n",
    "def do_the_job(command):\n",
    "    os.system(command)\n",
    "\n",
    "for file in glob('../data/common/*'):\n",
    "    clear_output(wait=True)\n",
    "    print(i)\n",
    "    jobs.append(main_command+' '+file.split('/')[-1]+' '+'1')\n",
    "    i +=1\n",
    "print('Appended')\n",
    "\n",
    "workers = mp.Pool()\n",
    "init = time()\n",
    "workers.map(do_the_job, jobs)\n",
    "end = time()-init\n",
    "pd.to_pickle(end, main_command+'_seconds_time.pickle')\n",
    "print('Job finished in',end,'seconds')"
   ]
  }
 ],
 "metadata": {
  "kernelspec": {
   "display_name": "Python 3",
   "language": "python",
   "name": "python3"
  },
  "language_info": {
   "codemirror_mode": {
    "name": "ipython",
    "version": 3
   },
   "file_extension": ".py",
   "mimetype": "text/x-python",
   "name": "python",
   "nbconvert_exporter": "python",
   "pygments_lexer": "ipython3",
   "version": "3.7.9"
  }
 },
 "nbformat": 4,
 "nbformat_minor": 4
}
