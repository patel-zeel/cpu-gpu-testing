{
 "cells": [
  {
   "cell_type": "code",
   "execution_count": 2,
   "metadata": {},
   "outputs": [],
   "source": [
    "from IPython import get_ipython\n",
    "!pip install -qq GPy scikit-learn\n",
    "import pandas as pd\n",
    "import numpy as np\n",
    "import sys\n",
    "import os\n",
    "from GPy.models import GPRegression\n",
    "from GPy.kern import RBF\n",
    "from sklearn.model_selection import KFold\n",
    "from sklearn.preprocessing import StandardScaler\n",
    "from scipy.stats import mode\n",
    "from sklearn.metrics import mean_squared_error\n",
    "from IPython.display import clear_output\n",
    "from time import time\n",
    "from glob import glob\n",
    "import multiprocessing as mp\n",
    "import matplotlib.pyplot as plt\n",
    "from sklearn.linear_model import LinearRegression\n",
    "from sklearn.ensemble import RandomForestRegressor"
   ]
  },
  {
   "cell_type": "markdown",
   "metadata": {},
   "source": [
    "## Generate script"
   ]
  },
  {
   "cell_type": "code",
   "execution_count": 4,
   "metadata": {},
   "outputs": [
    {
     "name": "stdout",
     "output_type": "stream",
     "text": [
      "Writing rf.py\n"
     ]
    }
   ],
   "source": [
    "%%writefile rf.py\n",
    "import pandas as pd\n",
    "import numpy as np\n",
    "from sklearn.ensemble import RandomForestRegressor\n",
    "import os\n",
    "import sys\n",
    "np.random.seed(0)\n",
    "f_name = sys.argv[1]\n",
    "recompute = int(sys.argv[2])\n",
    "compute=True\n",
    "base_data_path = '../data/common/'\n",
    "base_result_path = '../raw_results/RF/'\n",
    "\n",
    "if os.path.exists(f_name):\n",
    "    compute = True if recompute else False\n",
    "    \n",
    "if compute:\n",
    "    sub_data = pd.read_pickle(base_data_path+f_name)\n",
    "    model = RandomForestRegressor(random_state=0)\n",
    "    Yscaler = sub_data['Yscaler']\n",
    "    pred_y = Yscaler.inverse_transform(model.predict(sub_data['test_X']))\n",
    "    rmse = np.sqrt(np.mean(np.square(sub_data['test_Y'].squeeze() - pred_y.squeeze())))\n",
    "    pd.to_pickle({'rmse':rmse, 'test_y':sub_data['test_Y'].squeeze(),\n",
    "                  'pred_y':pred_y, 'model':model}, \n",
    "                 base_result_path+f_name)\n",
    "    pass"
   ]
  },
  {
   "cell_type": "markdown",
   "metadata": {},
   "source": [
    "### Compute"
   ]
  },
  {
   "cell_type": "code",
   "execution_count": null,
   "metadata": {},
   "outputs": [
    {
     "name": "stdout",
     "output_type": "stream",
     "text": [
      "839\n",
      "Appended\n"
     ]
    }
   ],
   "source": [
    "i = 0\n",
    "jobs = []\n",
    "main_command = 'python rf.py'\n",
    "\n",
    "def do_the_job(command):\n",
    "    os.system(command)\n",
    "\n",
    "for file in glob('../data/common/*'):\n",
    "    clear_output(wait=True)\n",
    "    print(i)\n",
    "    jobs.append(main_command+' '+file.split('/')[-1]+' '+'1')\n",
    "    i +=1\n",
    "print('Appended')\n",
    "\n",
    "if not os.path.exists('../raw_results/RF/'):\n",
    "    os.makedirs('../raw_results/RF/')\n",
    "\n",
    "# workers = mp.Pool(mp.cpu_count()-1)\n",
    "workers = mp.Pool(16)\n",
    "init = time()\n",
    "# workers.map(do_the_job, jobs, chunksize=840//(mp.cpu_count()-1))\n",
    "workers.map(do_the_job, jobs)\n",
    "end = time()-init\n",
    "assert len(glob('../raw_results/GP_RBF/*')) == 840\n",
    "os.system('python -V > python_version.txt')\n",
    "os.system('lscpu > cpu_info.txt')\n",
    "with open(main_command+'_time.txt', 'w') as f:\n",
    "    print('time in seconds:',end,file=f)\n",
    "print('Job finished in',end,'seconds')"
   ]
  },
  {
   "cell_type": "markdown",
   "metadata": {},
   "source": [
    "# Appendix"
   ]
  },
  {
   "cell_type": "code",
   "execution_count": null,
   "metadata": {},
   "outputs": [],
   "source": [
    "def gpr(x):\n",
    "    np.random.seed(x)\n",
    "    X = np.arange(0,40).reshape(-1,2)\n",
    "    y = X + np.random.rand(20, 2)\n",
    "    model = GPRegression(X, y, RBF(2,active_dims=[0,1],ARD=True))\n",
    "    model.optimize_restarts(5, verbose=0)\n",
    "\n",
    "means = []\n",
    "for i in range(1,16+1):\n",
    "    workers = mp.Pool(i)\n",
    "    times = []\n",
    "    for _ in range(1):\n",
    "        init = time()\n",
    "        workers.map(gpr, range(16))\n",
    "        times.append(time()-init)\n",
    "    means.append(np.mean(times))\n",
    "    workers.close()\n",
    "clear_output()"
   ]
  },
  {
   "cell_type": "code",
   "execution_count": null,
   "metadata": {},
   "outputs": [],
   "source": [
    "plt.plot(means);"
   ]
  },
  {
   "cell_type": "code",
   "execution_count": 2,
   "metadata": {},
   "outputs": [],
   "source": [
    "def rf(x):\n",
    "    np.random.seed(x)\n",
    "    X = np.arange(0,40).reshape(-1,2)\n",
    "    y = X + np.random.rand(20, 2)\n",
    "    model = RandomForestRegressor(random_state=x)\n",
    "    model.fit(X, y)\n",
    "\n",
    "means = []\n",
    "for i in range(1,16+1):\n",
    "    workers = mp.Pool(i)\n",
    "    times = []\n",
    "    for _ in range(1):\n",
    "        init = time()\n",
    "        workers.map(rf, range(16))\n",
    "        times.append(time()-init)\n",
    "    means.append(np.mean(times))\n",
    "    workers.close()\n",
    "clear_output()"
   ]
  },
  {
   "cell_type": "code",
   "execution_count": 3,
   "metadata": {},
   "outputs": [
    {
     "data": {
      "image/png": "[encoded data removed]",
      "text/plain": [
       "<Figure size 432x288 with 1 Axes>"
      ]
     },
     "metadata": {
      "needs_background": "light"
     },
     "output_type": "display_data"
    }
   ],
   "source": [
    "plt.plot(means);"
   ]
  },
  {
   "cell_type": "code",
   "execution_count": 4,
   "metadata": {},
   "outputs": [
    {
     "data": {
      "text/plain": [
       "[1.5292479991912842,\n",
       " 0.8524248600006104,\n",
       " 0.6244404315948486,\n",
       " 0.43053627014160156,\n",
       " 0.40782928466796875,\n",
       " 0.3553903102874756,\n",
       " 0.3140537738800049,\n",
       " 0.2663075923919678,\n",
       " 0.2745091915130615,\n",
       " 0.23195624351501465,\n",
       " 0.2259821891784668,\n",
       " 0.23659706115722656,\n",
       " 0.2291250228881836,\n",
       " 0.23045992851257324,\n",
       " 0.2223045825958252,\n",
       " 0.15029501914978027]"
      ]
     },
     "execution_count": 4,
     "metadata": {},
     "output_type": "execute_result"
    }
   ],
   "source": [
    "means"
   ]
  },
  {
   "cell_type": "code",
   "execution_count": null,
   "metadata": {},
   "outputs": [],
   "source": []
  }
 ],
 "metadata": {
  "kernelspec": {
   "display_name": "Python 3",
   "language": "python",
   "name": "python3"
  },
  "language_info": {
   "codemirror_mode": {
    "name": "ipython",
    "version": 3
   },
   "file_extension": ".py",
   "mimetype": "text/x-python",
   "name": "python",
   "nbconvert_exporter": "python",
   "pygments_lexer": "ipython3",
   "version": "3.8.3"
  }
 },
 "nbformat": 4,
 "nbformat_minor": 4
}
