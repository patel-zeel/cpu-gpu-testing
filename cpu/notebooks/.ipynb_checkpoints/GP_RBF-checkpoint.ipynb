{
 "cells": [
  {
   "cell_type": "code",
<<<<<<< HEAD
   "execution_count": 1,
=======
   "execution_count": 4,
>>>>>>> 7e65673614b5c5acee75efc3b97954fd4821bbd0
   "metadata": {},
   "outputs": [],
   "source": [
    "from IPython import get_ipython\n",
    "!pip install -qq GPy scikit-learn\n",
    "import pandas as pd\n",
    "import numpy as np\n",
    "import sys\n",
    "import os\n",
    "from GPy.models import GPRegression\n",
    "from GPy.kern import RBF\n",
    "from sklearn.model_selection import KFold\n",
    "from sklearn.preprocessing import StandardScaler\n",
    "from scipy.stats import mode\n",
    "from sklearn.metrics import mean_squared_error\n",
    "from IPython.display import clear_output\n",
    "from time import time\n",
    "from glob import glob\n",
    "import multiprocessing as mp"
   ]
  },
  {
   "cell_type": "markdown",
   "metadata": {},
   "source": [
    "## Generate script"
   ]
  },
  {
   "cell_type": "code",
<<<<<<< HEAD
   "execution_count": 2,
=======
   "execution_count": 5,
>>>>>>> 7e65673614b5c5acee75efc3b97954fd4821bbd0
   "metadata": {},
   "outputs": [
    {
     "name": "stdout",
     "output_type": "stream",
     "text": [
      "Overwriting gp_rbf.py\n"
     ]
    }
   ],
   "source": [
    "%%writefile gp_rbf.py\n",
    "import pandas as pd\n",
    "import numpy as np\n",
    "from GPy.models import GPRegression\n",
    "from GPy.kern import RBF\n",
    "import os\n",
    "import sys\n",
    "np.random.seed(0)\n",
    "f_name = sys.argv[1]\n",
    "recompute = int(sys.argv[2])\n",
    "compute=True\n",
    "base_data_path = '../data/common/'\n",
    "base_result_path = '../raw_results/GP_RBF/'\n",
    "\n",
    "if os.path.exists(f_name):\n",
    "    compute = True if recompute else False\n",
    "    \n",
    "if compute:\n",
    "    sub_data = pd.read_pickle(base_data_path+f_name)\n",
    "    kern = RBF(input_dim=2, active_dims=[0,1], ARD=True)\n",
    "    model = GPRegression(X = sub_data['trn_val_X'], \n",
    "                         Y = sub_data['trn_val_Y'],\n",
    "                         kernel = kern)\n",
    "    Yscaler = sub_data['Yscaler']\n",
    "#     model.kern.lengthscale.constrain_bounded(0.1,10)\n",
    "    model.optimize_restarts(5, robust=True, verbose=0)\n",
    "    pred_y = Yscaler.inverse_transform(model.predict(sub_data['test_X'])[0])\n",
    "    rmse = np.sqrt(np.mean(np.square(sub_data['test_Y'].squeeze() - pred_y.squeeze())))\n",
    "#     print(rmse, pred_y, model.kern.lengthscale)\n",
    "    pd.to_pickle({'rmse':rmse, 'test_y':sub_data['test_Y'].squeeze(),\n",
    "                  'pred_y':pred_y, 'lengthscales':model.kern.lengthscale.tolist(),'model':model}, \n",
    "                 base_result_path+f_name)"
   ]
  },
  {
   "cell_type": "markdown",
   "metadata": {},
   "source": [
    "### Compute"
   ]
  },
  {
   "cell_type": "code",
   "execution_count": null,
   "metadata": {},
   "outputs": [
    {
     "name": "stdout",
     "output_type": "stream",
     "text": [
      "839\n",
<<<<<<< HEAD
      "Appended\n",
      "Job finished in 125.3448793888092 seconds\n"
     ]
    },
    {
     "name": "stderr",
     "output_type": "stream",
     "text": [
      "Process ForkPoolWorker-27:\n",
      "Process ForkPoolWorker-31:\n",
      "Process ForkPoolWorker-22:\n",
      "Process ForkPoolWorker-29:\n",
      "Process ForkPoolWorker-16:\n",
      "Process ForkPoolWorker-30:\n",
      "Process ForkPoolWorker-17:\n",
      "Process ForkPoolWorker-19:\n",
      "Process ForkPoolWorker-23:\n",
      "Process ForkPoolWorker-18:\n",
      "Process ForkPoolWorker-20:\n",
      "Process ForkPoolWorker-25:\n",
      "Process ForkPoolWorker-21:\n",
      "Process ForkPoolWorker-26:\n",
      "Process ForkPoolWorker-24:\n",
      "Process ForkPoolWorker-28:\n",
      "Traceback (most recent call last):\n",
      "Traceback (most recent call last):\n",
      "Traceback (most recent call last):\n",
      "Traceback (most recent call last):\n",
      "Traceback (most recent call last):\n",
      "Traceback (most recent call last):\n",
      "Traceback (most recent call last):\n",
      "Traceback (most recent call last):\n",
      "Traceback (most recent call last):\n"
=======
      "Appended\n"
>>>>>>> 7e65673614b5c5acee75efc3b97954fd4821bbd0
     ]
    }
   ],
   "source": [
    "i = 0\n",
    "jobs = []\n",
    "main_command = 'python gp_rbf.py'\n",
    "\n",
    "def do_the_job(command):\n",
    "    os.system(command)\n",
    "\n",
    "for file in glob('../data/common/*'):\n",
    "    clear_output(wait=True)\n",
    "    print(i)\n",
    "    jobs.append(main_command+' '+file.split('/')[-1]+' '+'1')\n",
    "    i +=1\n",
    "print('Appended')\n",
    "\n",
    "if not os.path.exists('../raw_results/GP_RBF/'):\n",
    "    os.makedirs('../raw_results/GP_RBF/')\n",
    "\n",
    "# workers = mp.Pool(mp.cpu_count()-1)\n",
    "workers = mp.Pool(16)\n",
    "init = time()\n",
<<<<<<< HEAD
    "# workers.map(do_the_job, jobs, chunksize=840//(mp.cpu_count()-1))\n",
    "workers.map(do_the_job, jobs)\n",
=======
    "workers.map(do_the_job, jobs, chunksize=840//mp.cpu_count())\n",
>>>>>>> 7e65673614b5c5acee75efc3b97954fd4821bbd0
    "end = time()-init\n",
    "assert len(glob('../raw_results/GP_RBF/*')) == 840\n",
    "os.system('python -V > python_version.txt')\n",
    "os.system('lscpu > cpu_info.txt')\n",
    "with open(main_command+'_time.txt', 'w') as f:\n",
    "    print('time in seconds:',end,file=f)\n",
    "print('Job finished in',end,'seconds')"
   ]
  },
  {
   "cell_type": "markdown",
   "metadata": {},
   "source": [
    "# Appendix"
   ]
  },
  {
   "cell_type": "code",
   "execution_count": 4,
   "metadata": {},
   "outputs": [
    {
     "name": "stdout",
     "output_type": "stream",
     "text": [
      "1.7703686475753784\n"
     ]
    }
   ],
   "source": [
    "def pure_math(x):\n",
    "    y = (x+x)**0.123\n",
    "\n",
    "workers = mp.Pool(16)\n",
    "times = []\n",
    "for _ in range(10):\n",
    "    init = time()\n",
    "    workers.map(pure_math, range(10**7))\n",
    "    times.append(time()-init)\n",
    "print(np.mean(times))"
   ]
  },
  {
   "cell_type": "code",
   "execution_count": 5,
   "metadata": {},
   "outputs": [
    {
     "data": {
      "text/plain": [
       "2.537919373924699"
      ]
     },
     "execution_count": 5,
     "metadata": {},
     "output_type": "execute_result"
    }
   ],
   "source": [
    "1.7703686475753784/0.6975669384002685"
   ]
  },
  {
   "cell_type": "code",
   "execution_count": 10,
   "metadata": {},
   "outputs": [
    {
     "name": "stdout",
     "output_type": "stream",
     "text": [
      "0.0027376413345336914\n"
     ]
    }
   ],
   "source": [
    "def math_with_IO(x):\n",
    "    with open(str(x)+'.ok','w') as f:\n",
    "        f.write(str(x))\n",
    "    with open(str(x)+'.ok') as f:\n",
    "        x = int(f.read().strip())\n",
    "    y = (x+x*x)**0.123\n",
    "    os.remove(str(x)+'.ok')\n",
    "\n",
    "workers = mp.Pool(16)\n",
    "times = []\n",
    "for _ in range(10):\n",
    "    init = time()\n",
    "    workers.map(math_with_IO, range(2**4))\n",
    "    times.append(time()-init)\n",
    "print(np.mean(times))"
   ]
  },
  {
   "cell_type": "code",
   "execution_count": null,
   "metadata": {},
   "outputs": [],
   "source": []
  }
 ],
 "metadata": {
  "kernelspec": {
   "display_name": "Python 3",
   "language": "python",
   "name": "python3"
  },
  "language_info": {
   "codemirror_mode": {
    "name": "ipython",
    "version": 3
   },
   "file_extension": ".py",
   "mimetype": "text/x-python",
   "name": "python",
   "nbconvert_exporter": "python",
   "pygments_lexer": "ipython3",
   "version": "3.8.3"
  }
 },
 "nbformat": 4,
 "nbformat_minor": 4
}
